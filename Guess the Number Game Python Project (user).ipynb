{
  "nbformat": 4,
  "nbformat_minor": 0,
  "metadata": {
    "colab": {
      "provenance": [],
      "authorship_tag": "ABX9TyOtBVoQWhoFAOVE51dn+zZV",
      "include_colab_link": true
    },
    "kernelspec": {
      "name": "python3",
      "display_name": "Python 3"
    },
    "language_info": {
      "name": "python"
    }
  },
  "cells": [
    {
      "cell_type": "markdown",
      "metadata": {
        "id": "view-in-github",
        "colab_type": "text"
      },
      "source": [
        "<a href=\"https://colab.research.google.com/github/AbdulAhad176/AbdulAhad176/blob/main/Guess%20the%20Number%20Game%20Python%20Project%20(user).ipynb\" target=\"_parent\"><img src=\"https://colab.research.google.com/assets/colab-badge.svg\" alt=\"Open In Colab\"/></a>"
      ]
    },
    {
      "cell_type": "code",
      "source": [
        "# prompt: write to geneate a Guess the Number Game Python Project  user in simple language\n",
        "\n",
        "import random\n",
        "\n",
        "def guess_the_number():\n",
        "    # Generate a random number between 1 and 100\n",
        "    secret_number = random.randint(1, 100)\n",
        "    guesses_left = 7  # You can adjust the number of guesses\n",
        "\n",
        "    print(\"Welcome to Guess the Number!\")\n",
        "    print(\"I'm thinking of a number between 1 and 100.\")\n",
        "\n",
        "    while guesses_left > 0:\n",
        "        print(f\"\\nYou have {guesses_left} guesses left.\")\n",
        "        try:\n",
        "            guess = int(input(\"Take a guess: \"))\n",
        "        except ValueError:\n",
        "            print(\"Invalid input. Please enter a number.\")\n",
        "            continue  # Go back to the beginning of the loop\n",
        "\n",
        "        if guess < secret_number:\n",
        "            print(\"Too low!\")\n",
        "        elif guess > secret_number:\n",
        "            print(\"Too high!\")\n",
        "        else:\n",
        "            print(f\"Congratulations! You guessed the number in {7 - guesses_left} tries!\")\n",
        "            return\n",
        "\n",
        "        guesses_left -= 1\n",
        "\n",
        "    print(f\"\\nYou ran out of guesses. The number was {secret_number}.\")\n",
        "\n",
        "if __name__ == \"__main__\":\n",
        "    guess_the_number()"
      ],
      "metadata": {
        "colab": {
          "base_uri": "https://localhost:8080/"
        },
        "id": "kcO3h5tnYm_l",
        "outputId": "165002f5-0a04-42b2-fd7f-8e38b24ab86a"
      },
      "execution_count": null,
      "outputs": [
        {
          "output_type": "stream",
          "name": "stdout",
          "text": [
            "Welcome to Guess the Number!\n",
            "I'm thinking of a number between 1 and 100.\n",
            "\n",
            "You have 7 guesses left.\n"
          ]
        }
      ]
    },
    {
      "cell_type": "code",
      "source": [
        "# prompt: write to make a Guess the Number Game Python Project normal\n",
        "\n",
        "import random\n",
        "\n",
        "def guess_the_number():\n",
        "  \"\"\"Plays a number guessing game with the user.\"\"\"\n",
        "\n",
        "  number = random.randint(1, 100)\n",
        "  guesses_left = 7\n",
        "\n",
        "  print(\"Welcome to the Number Guessing Game!\")\n",
        "  print(\"I'm thinking of a number between 1 and 100.\")\n",
        "\n",
        "  while guesses_left > 0:\n",
        "    try:\n",
        "      guess = int(input(f\"You have {guesses_left} guesses left. What's your guess? \"))\n",
        "    except ValueError:\n",
        "      print(\"Invalid input. Please enter a number.\")\n",
        "      continue\n",
        "\n",
        "    if guess < number:\n",
        "      print(\"Too low!\")\n",
        "    elif guess > number:\n",
        "      print(\"Too high!\")\n",
        "    else:\n",
        "      print(f\"Congratulations! You guessed the number in {7 - guesses_left} tries.\")\n",
        "      return\n",
        "\n",
        "    guesses_left -= 1\n",
        "\n",
        "  print(f\"You ran out of guesses. The number was {number}.\")\n",
        "\n",
        "if __name__ == \"__main__\":\n",
        "  guess_the_number()\n"
      ],
      "metadata": {
        "colab": {
          "base_uri": "https://localhost:8080/"
        },
        "id": "ZyJsXd03XeAu",
        "outputId": "c9e910a9-9910-440e-a7b7-ef71058cbca9"
      },
      "execution_count": 3,
      "outputs": [
        {
          "output_type": "stream",
          "name": "stdout",
          "text": [
            "Welcome to the Number Guessing Game!\n",
            "I'm thinking of a number between 1 and 100.\n",
            "You have 7 guesses left. What's your guess? 6\n",
            "Too low!\n",
            "You have 6 guesses left. What's your guess? 8\n",
            "Too low!\n",
            "You have 5 guesses left. What's your guess? 3\n",
            "Too low!\n",
            "You have 4 guesses left. What's your guess? 98\n",
            "Too high!\n",
            "You have 3 guesses left. What's your guess? 5\n",
            "Too low!\n",
            "You have 2 guesses left. What's your guess? 45\n",
            "Too low!\n",
            "You have 1 guesses left. What's your guess? 7\n",
            "Too low!\n",
            "You ran out of guesses. The number was 52.\n"
          ]
        }
      ]
    },
    {
      "cell_type": "code",
      "source": [],
      "metadata": {
        "id": "ul3TSwcAX683"
      },
      "execution_count": null,
      "outputs": []
    },
    {
      "cell_type": "code",
      "source": [],
      "metadata": {
        "id": "t3mu3PolXXwB"
      },
      "execution_count": null,
      "outputs": []
    }
  ]
}