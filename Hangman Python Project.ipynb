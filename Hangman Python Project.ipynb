{
  "cells": [
    {
      "cell_type": "markdown",
      "metadata": {
        "id": "view-in-github",
        "colab_type": "text"
      },
      "source": [
        "<a href=\"https://colab.research.google.com/github/AbdulAhad176/AbdulAhad176/blob/main/Hangman%20Python%20Project.ipynb\" target=\"_parent\"><img src=\"https://colab.research.google.com/assets/colab-badge.svg\" alt=\"Open In Colab\"/></a>"
      ]
    },
    {
      "cell_type": "code",
      "source": [
        "# prompt: write to make a code in simple python Countdown Timer Python Project\n",
        "\n",
        "import time\n",
        "\n",
        "def countdown(t):\n",
        "    \"\"\"\n",
        "    A simple countdown timer.\n",
        "\n",
        "    Args:\n",
        "      t: The time in seconds to count down from.\n",
        "    \"\"\"\n",
        "    while t:\n",
        "        mins, secs = divmod(t, 60)\n",
        "        timer = '{:02d}:{:02d}'.format(mins, secs)\n",
        "        print(timer, end=\"\\r\")\n",
        "        time.sleep(1)\n",
        "        t -= 1\n",
        "\n",
        "    print('Fire in the hole!!')\n",
        "\n",
        "# Get the countdown time from the user\n",
        "seconds = input(\"Enter the time in seconds: \")\n",
        "\n",
        "# Check if the input is a valid number\n",
        "if seconds.isdigit():\n",
        "    seconds = int(seconds)\n",
        "    countdown(seconds)\n",
        "else:\n",
        "    print(\"Invalid input. Please enter a number.\")\n"
      ],
      "metadata": {
        "id": "DLWkxJjw8qvA"
      },
      "execution_count": null,
      "outputs": []
    },
    {
      "cell_type": "code",
      "source": [],
      "metadata": {
        "id": "dJcmdWNG8pcz"
      },
      "execution_count": null,
      "outputs": []
    },
    {
      "cell_type": "code",
      "source": [],
      "metadata": {
        "id": "lowRSB448nFe"
      },
      "execution_count": null,
      "outputs": []
    },
    {
      "cell_type": "code",
      "execution_count": null,
      "metadata": {
        "colab": {
          "background_save": true
        },
        "id": "5J1PzdMxaSgT"
      },
      "outputs": [],
      "source": [
        "# prompt:  write to make a Hangman Python Project in simple\n",
        "\n",
        "import random\n",
        "\n",
        "def hangman():\n",
        "    words = [\"python\", \"javascript\", \"programming\", \"computer\", \"science\"]\n",
        "    word = random.choice(words)\n",
        "    word_letters = set(word)  # letters in the word\n",
        "    alphabet = set(chr(x) for x in range(ord('a'), ord('z') + 1))\n",
        "    used_letters = set()  # what the user has guessed\n",
        "\n",
        "    lives = 6\n",
        "\n",
        "    # getting user input\n",
        "    while len(word_letters) > 0 and lives > 0:\n",
        "        # letters used\n",
        "        # ' '.join(['a', 'b', 'cd']) --> 'a b cd'\n",
        "        print('You have', lives, 'lives left and you have used these letters: ', ' '.join(used_letters))\n",
        "\n",
        "        # current word (ie p - t - o n)\n",
        "        word_list = [letter if letter in used_letters else '-' for letter in word]\n",
        "        print('Current word: ', ' '.join(word_list))\n",
        "\n",
        "        user_letter = input('Guess a letter: ').lower()\n",
        "        if user_letter in alphabet - used_letters:\n",
        "            used_letters.add(user_letter)\n",
        "            if user_letter in word_letters:\n",
        "                word_letters.remove(user_letter)\n",
        "                print('')\n",
        "\n",
        "            else:\n",
        "                lives = lives - 1  # takes away a life if wrong\n",
        "                print('\\nYour letter,', user_letter, 'is not in the word.')\n",
        "\n",
        "        elif user_letter in used_letters:\n",
        "            print('\\nYou have already used that character. Please try again.')\n",
        "\n",
        "        else:\n",
        "            print('\\nInvalid character. Please try again.')\n",
        "\n",
        "    # gets here when len(word_letters) == 0 OR lives == 0\n",
        "    if lives == 0:\n",
        "        print('You died, sorry. The word was', word)\n",
        "    else:\n",
        "        print('You guessed the word', word, '!!')\n",
        "\n",
        "\n",
        "if __name__ == '__main__':\n",
        "    hangman()"
      ]
    },
    {
      "cell_type": "code",
      "execution_count": null,
      "metadata": {
        "colab": {
          "base_uri": "https://localhost:8080/"
        },
        "id": "m4tBS6NVZXb1",
        "outputId": "cee4013c-530e-4ad1-a7aa-7d1391997d56"
      },
      "outputs": [
        {
          "name": "stdout",
          "output_type": "stream",
          "text": [
            "Enter your choice (rock, paper, or scissors): rock\n",
            "\n",
            "You chose rock, computer chose scissors.\n",
            "\n",
            "Rock smashes scissors! You win!\n"
          ]
        }
      ],
      "source": [
        "# prompt: write to make a Rock, paper, scissors Python Project in simple\n",
        "\n",
        "import random\n",
        "\n",
        "def play_rock_paper_scissors():\n",
        "  \"\"\"Plays a game of Rock, Paper, Scissors against the computer.\"\"\"\n",
        "\n",
        "  user_choice = input(\"Enter your choice (rock, paper, or scissors): \").lower()\n",
        "  possible_actions = [\"rock\", \"paper\", \"scissors\"]\n",
        "\n",
        "  if user_choice not in possible_actions:\n",
        "    print(\"Invalid choice. Please enter rock, paper, or scissors.\")\n",
        "    return\n",
        "\n",
        "  computer_choice = random.choice(possible_actions)\n",
        "  print(f\"\\nYou chose {user_choice}, computer chose {computer_choice}.\\n\")\n",
        "\n",
        "  if user_choice == computer_choice:\n",
        "    print(f\"Both players selected {user_choice}. It's a tie!\")\n",
        "  elif user_choice == \"rock\":\n",
        "    if computer_choice == \"scissors\":\n",
        "      print(\"Rock smashes scissors! You win!\")\n",
        "    else:\n",
        "      print(\"Paper covers rock! You lose.\")\n",
        "  elif user_choice == \"paper\":\n",
        "    if computer_choice == \"rock\":\n",
        "      print(\"Paper covers rock! You win!\")\n",
        "    else:\n",
        "      print(\"Scissors cuts paper! You lose.\")\n",
        "  elif user_choice == \"scissors\":\n",
        "    if computer_choice == \"paper\":\n",
        "      print(\"Scissors cuts paper! You win!\")\n",
        "    else:\n",
        "      print(\"Rock smashes scissors! You lose.\")\n",
        "\n",
        "play_rock_paper_scissors()\n"
      ]
    }
  ],
  "metadata": {
    "colab": {
      "provenance": [],
      "authorship_tag": "ABX9TyNkgTHxhsC6UblyNDBzGx1l",
      "include_colab_link": true
    },
    "kernelspec": {
      "display_name": "Python 3",
      "name": "python3"
    },
    "language_info": {
      "name": "python"
    }
  },
  "nbformat": 4,
  "nbformat_minor": 0
}