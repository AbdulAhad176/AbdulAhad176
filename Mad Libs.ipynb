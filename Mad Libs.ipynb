{
  "nbformat": 4,
  "nbformat_minor": 0,
  "metadata": {
    "colab": {
      "provenance": [],
      "authorship_tag": "ABX9TyNFd1QdM5dEhTafWv81XrjQ",
      "include_colab_link": true
    },
    "kernelspec": {
      "name": "python3",
      "display_name": "Python 3"
    },
    "language_info": {
      "name": "python"
    }
  },
  "cells": [
    {
      "cell_type": "markdown",
      "metadata": {
        "id": "view-in-github",
        "colab_type": "text"
      },
      "source": [
        "<a href=\"https://colab.research.google.com/github/AbdulAhad176/AbdulAhad176/blob/main/Mad%20Libs.ipynb\" target=\"_parent\"><img src=\"https://colab.research.google.com/assets/colab-badge.svg\" alt=\"Open In Colab\"/></a>"
      ]
    },
    {
      "cell_type": "code",
      "execution_count": null,
      "metadata": {
        "colab": {
          "base_uri": "https://localhost:8080/"
        },
        "id": "ZOH4l7h7TdwF",
        "outputId": "e18f85d7-8009-402b-9c14-d3485e0890ab"
      },
      "outputs": [
        {
          "name": "stdout",
          "output_type": "stream",
          "text": [
            "Enter an adjective: 5\n",
            "Enter a noun (plural): g\n"
          ]
        }
      ],
      "source": [
        "# prompt: Write to make  a Mad Libs projects  in python language  normal\n",
        "\n",
        "# Mad Libs Generator\n",
        "\n",
        "def mad_libs():\n",
        "    \"\"\"Plays a game of Mad Libs with the user.\"\"\"\n",
        "\n",
        "    # Get user input for different parts of speech\n",
        "    adjective1 = input(\"Enter an adjective: \")\n",
        "    noun1 = input(\"Enter a noun (plural): \")\n",
        "    verb1 = input(\"Enter a verb (past tense): \")\n",
        "    adverb1 = input(\"Enter an adverb: \")\n",
        "    adjective2 = input(\"Enter another adjective: \")\n",
        "    noun2 = input(\"Enter another noun: \")\n",
        "\n",
        "    # Story template\n",
        "    story = f\"The {adjective1} {noun1} {verb1} {adverb1} through the forest, looking for a {adjective2} {noun2}.\"\n",
        "\n",
        "    # Display the completed Mad Libs story\n",
        "    print(\"\\nHere is your Mad Libs story:\\n\")\n",
        "    print(story)\n",
        "\n",
        "# Start the game\n",
        "if __name__ == \"__main__\":\n",
        "    mad_libs()"
      ]
    }
  ]
}